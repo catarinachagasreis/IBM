{
 "cells": [
  {
   "cell_type": "code",
   "execution_count": 5,
   "id": "df54d2e9-44df-49fe-bf10-857e175da59d",
   "metadata": {},
   "outputs": [],
   "source": [
    "# Exercise 2 - Create a markdown cell with the title of the notebook. (1 pt)"
   ]
  },
  {
   "cell_type": "markdown",
   "id": "67844b0c-c8f6-489f-93e3-f07336d5f184",
   "metadata": {},
   "source": [
    "# Data Science Tools and Ecosystem"
   ]
  },
  {
   "cell_type": "code",
   "execution_count": 11,
   "id": "da5b8f44-4b9d-4dc1-a77d-b188b286ed3d",
   "metadata": {},
   "outputs": [],
   "source": [
    "# Exercise 3 - Create a markdown cell for an introduction. (1 pt)"
   ]
  },
  {
   "cell_type": "markdown",
   "id": "b4341ae7-2ce1-4138-ad10-46fc106c3cd1",
   "metadata": {},
   "source": [
    "### Introduction"
   ]
  },
  {
   "cell_type": "markdown",
   "id": "fe1182eb-ea69-46f6-a7fb-08cec5cbaa06",
   "metadata": {},
   "source": [
    "This notebook provides an overview of various tools, languages, and libraries that are essential in the field of Data Science. It also includes basic examples of arithmetic operations performed in Python."
   ]
  },
  {
   "cell_type": "code",
   "execution_count": 13,
   "id": "d0c065c6-7e3a-40df-bf05-b4c55dbbceda",
   "metadata": {},
   "outputs": [],
   "source": [
    "# Exercise 4 - Create a markdown cell to list data science languages. (3 pts)"
   ]
  },
  {
   "cell_type": "markdown",
   "id": "cb2fbadc-7792-41fe-9ac3-506063ed92a5",
   "metadata": {},
   "source": [
    "### Data Science Languages"
   ]
  },
  {
   "cell_type": "markdown",
   "id": "f0476427-01e7-44e6-96a0-10bae9eba649",
   "metadata": {},
   "source": [
    "- Python\n",
    "- R\n",
    "- SQL\n",
    "- Julia\n",
    "- Scala"
   ]
  },
  {
   "cell_type": "code",
   "execution_count": 17,
   "id": "7c0ec504-fc5c-4c4f-9c82-b053b8aa2166",
   "metadata": {},
   "outputs": [],
   "source": [
    "# Exercise 5 - Create a markdown cell to list data science libraries. (3 pts)"
   ]
  },
  {
   "cell_type": "markdown",
   "id": "83807dc5-8026-4a0e-9440-3b9e5176ec22",
   "metadata": {},
   "source": [
    "### Data Science Libraries"
   ]
  },
  {
   "cell_type": "markdown",
   "id": "6a23aff7-2c32-42d9-bc9a-d8578d293968",
   "metadata": {},
   "source": [
    "- Pandas\n",
    "- NumPy\n",
    "- Matplotlib\n",
    "- Scikit-learn\n",
    "- TensorFlow\n",
    "- Keras"
   ]
  },
  {
   "cell_type": "code",
   "execution_count": 21,
   "id": "1143d982-1d1c-42d8-9029-19893efde924",
   "metadata": {},
   "outputs": [],
   "source": [
    "# Exercise 6 - Create a markdown cell with a table of Data Science tools. (3 pts)"
   ]
  },
  {
   "cell_type": "markdown",
   "id": "da638a4b-3fc5-4eef-b103-a57b590a0ff2",
   "metadata": {},
   "source": [
    "### Data Science Tools"
   ]
  },
  {
   "cell_type": "markdown",
   "id": "37a26422-8490-4c6e-8314-7cbd7fa6987b",
   "metadata": {},
   "source": [
    "| Tool          | Description                                |\n",
    "|---------------|--------------------------------------------|\n",
    "| Jupyter       | A web-based interactive computing platform that allows users to create and share documents that contain live code, equations, visualizations, and narrative text. |\n",
    "| RStudio       | A powerful IDE for R, providing tools for plotting, history, debugging, and workspace management. |\n",
    "| Apache Spark  | A unified analytics engine for large-scale data processing. |\n",
    "| TensorFlow    | An end-to-end open-source platform for machine learning. |\n",
    "| Tableau       | A data visualization tool that is used to convert raw data into an understandable format. |"
   ]
  },
  {
   "cell_type": "code",
   "execution_count": 29,
   "id": "23532260-95f8-4c6f-a724-5a6abfb34059",
   "metadata": {},
   "outputs": [],
   "source": [
    "# Exercise 7 - Create a markdown cell introducing arithmetic expression examples. (1 pt)"
   ]
  },
  {
   "cell_type": "markdown",
   "id": "6761f34e-b407-450c-825e-9da020536fb9",
   "metadata": {},
   "source": [
    "### Arithmetic Expression Examples"
   ]
  },
  {
   "cell_type": "markdown",
   "id": "1894aea8-f845-46a9-a9a5-63ffabf3060a",
   "metadata": {},
   "source": [
    "Below are examples of simple arithmetic operations like addition and multiplication, as well as unit conversion from minutes to hours."
   ]
  },
  {
   "cell_type": "code",
   "execution_count": 33,
   "id": "732bb056-f07d-4b6e-a2b0-da55e03a5876",
   "metadata": {},
   "outputs": [],
   "source": [
    "# Exercise 8 - Create a code cell to multiply and add numbers. (2 pts)"
   ]
  },
  {
   "cell_type": "markdown",
   "id": "3071aa6a-7d5f-4619-a491-247124225cdd",
   "metadata": {},
   "source": [
    "#### Multiply 3 by 4 and add 5"
   ]
  },
  {
   "cell_type": "code",
   "execution_count": 37,
   "id": "31d3935a-ce82-4814-b755-159f89f42cf4",
   "metadata": {},
   "outputs": [],
   "source": [
    "result = (3 * 4) + 5"
   ]
  },
  {
   "cell_type": "code",
   "execution_count": 39,
   "id": "6cd989d5-c61c-4ceb-bf5f-d716af7a515d",
   "metadata": {},
   "outputs": [
    {
     "data": {
      "text/plain": [
       "17"
      ]
     },
     "execution_count": 39,
     "metadata": {},
     "output_type": "execute_result"
    }
   ],
   "source": [
    "result"
   ]
  },
  {
   "cell_type": "code",
   "execution_count": 41,
   "id": "95cff001-4bb9-4dcd-bf05-a2b07cf6534a",
   "metadata": {},
   "outputs": [],
   "source": [
    "# Exercise 9 - Create a code cell to convert minutes to hours. (2 pts)"
   ]
  },
  {
   "cell_type": "code",
   "execution_count": 43,
   "id": "a96ac5e8-2366-4638-b114-3e4945fa9aa3",
   "metadata": {},
   "outputs": [],
   "source": [
    "# Convert 200 minutes to hours"
   ]
  },
  {
   "cell_type": "code",
   "execution_count": 45,
   "id": "e11e4a69-2b45-4250-993c-5f8948b33150",
   "metadata": {},
   "outputs": [
    {
     "data": {
      "text/plain": [
       "3.3333333333333335"
      ]
     },
     "execution_count": 45,
     "metadata": {},
     "output_type": "execute_result"
    }
   ],
   "source": [
    "minutes = 200\n",
    "hours = minutes / 60\n",
    "hours"
   ]
  },
  {
   "cell_type": "code",
   "execution_count": 47,
   "id": "84eded6f-fd2a-47c7-90d8-778b9525f0df",
   "metadata": {},
   "outputs": [],
   "source": [
    "# Exercise 10 - Insert a markdown cell to list Objectives. (3 pts)"
   ]
  },
  {
   "cell_type": "markdown",
   "id": "12e5c80d-b0c1-40fe-9434-a239a993a05a",
   "metadata": {},
   "source": [
    "### Objectives"
   ]
  },
  {
   "cell_type": "markdown",
   "id": "65ab9675-7d16-444d-9311-44fdae2452b1",
   "metadata": {},
   "source": [
    "- Identify and list popular data science languages.\n",
    "- Identify commonly used libraries for data science.\n",
    "- Demonstrate basic arithmetic operations in Python.\n",
    "- Show how to perform a simple unit conversion."
   ]
  },
  {
   "cell_type": "code",
   "execution_count": 51,
   "id": "7d0cc1d3-ea6f-4047-9339-55c7821c5c2d",
   "metadata": {},
   "outputs": [],
   "source": [
    "# Exercise 11 - Create a markdown cell to indicate the Author’s name. (2 pts)"
   ]
  },
  {
   "cell_type": "markdown",
   "id": "1ef389af-4b0b-491f-8614-8984fd2fdf6f",
   "metadata": {},
   "source": [
    "### Author"
   ]
  },
  {
   "cell_type": "markdown",
   "id": "2504ef70-6795-40d7-a016-9bfa9b410da3",
   "metadata": {},
   "source": [
    "Jane Doe"
   ]
  },
  {
   "cell_type": "code",
   "execution_count": 55,
   "id": "ec67e38e-20a0-4418-b975-383b6afa473a",
   "metadata": {},
   "outputs": [],
   "source": [
    "# Exercise 12 - Share your notebook through GitHub (3 pts)"
   ]
  },
  {
   "cell_type": "markdown",
   "id": "c9befdb3-4589-46e1-ac92-f065930a212b",
   "metadata": {},
   "source": [
    "1. Save this notebook as a `.ipynb` file.\n",
    "2. Create a new public repository on GitHub.\n",
    "3. Upload the `.ipynb` file to the repository.\n",
    "4. Share the link to the repository as part of your submission"
   ]
  },
  {
   "cell_type": "code",
   "execution_count": 60,
   "id": "1d1207f1-dcc7-4ae2-982d-7b3ef5e13e05",
   "metadata": {},
   "outputs": [],
   "source": [
    "# Exercise 13 - Take a screenshot of the first page of the notebook. (1 pt)"
   ]
  },
  {
   "cell_type": "markdown",
   "id": "56c50fa1-91f5-4ca6-af92-45fed44f9d5e",
   "metadata": {},
   "source": [
    "Take a screenshot of the first page of this notebook, including the title, introduction, and the list of languages. Save the screenshot for submission."
   ]
  }
 ],
 "metadata": {
  "kernelspec": {
   "display_name": "Python 3 (ipykernel)",
   "language": "python",
   "name": "python3"
  },
  "language_info": {
   "codemirror_mode": {
    "name": "ipython",
    "version": 3
   },
   "file_extension": ".py",
   "mimetype": "text/x-python",
   "name": "python",
   "nbconvert_exporter": "python",
   "pygments_lexer": "ipython3",
   "version": "3.11.9"
  }
 },
 "nbformat": 4,
 "nbformat_minor": 5
}
